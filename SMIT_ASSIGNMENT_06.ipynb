{
  "nbformat": 4,
  "nbformat_minor": 0,
  "metadata": {
    "colab": {
      "provenance": []
    },
    "kernelspec": {
      "name": "python3",
      "display_name": "Python 3"
    },
    "language_info": {
      "name": "python"
    }
  },
  "cells": [
    {
      "cell_type": "code",
      "execution_count": 9,
      "metadata": {
        "colab": {
          "base_uri": "https://localhost:8080/"
        },
        "id": "WNLZK8DaTiJ7",
        "outputId": "21897bed-5a05-48ba-9977-ad264eb56499"
      },
      "outputs": [
        {
          "output_type": "stream",
          "name": "stdout",
          "text": [
            "Area of the circle is 0.0\n",
            "Perimeter of the circle is 0.000\n",
            "\n",
            "\n",
            "Area of the circle is 153.958\n",
            "Perimeter of the circle is 43.988\n"
          ]
        }
      ],
      "source": [
        "#1 Write a Python program to create a class representing a Circle. Include methods to calculate its area and perimeter.\n",
        "\n",
        "class Circle:\n",
        "  radius = 0\n",
        "  def __init__(self, radius=None):\n",
        "    if radius is None:\n",
        "      self.radius = Circle.radius # used class attr.\n",
        "    else:\n",
        "      self.radius = radius # used instance attr.\n",
        "  def area(self):\n",
        "    area = 3.142 * self.radius * self.radius\n",
        "    print(f\"Area of the circle is {area}\")\n",
        "  def perimeter(self):\n",
        "    peri = 2 * 3.142 * self.radius\n",
        "    print(f\"Perimeter of the circle is {peri:.3f}\")\n",
        "\n",
        "c = Circle()\n",
        "c.area()\n",
        "c.perimeter()\n",
        "\n",
        "print(f\"\\n\")\n",
        "\n",
        "c = Circle(7)\n",
        "c.area()\n",
        "c.perimeter()\n"
      ]
    },
    {
      "cell_type": "code",
      "source": [
        "from datetime import date, time, datetime\n",
        "print(date.today())\n",
        "print(date.today().year)\n",
        "print(date.today().month)\n",
        "print(date.today().day)\n",
        "print(datetime.now())"
      ],
      "metadata": {
        "colab": {
          "base_uri": "https://localhost:8080/"
        },
        "id": "EtZ5FY40adqH",
        "outputId": "7e19ae88-37f0-49fb-a746-e7dcb15a7d27"
      },
      "execution_count": 13,
      "outputs": [
        {
          "output_type": "stream",
          "name": "stdout",
          "text": [
            "2025-09-28\n",
            "2025\n",
            "9\n",
            "28\n",
            "2025-09-28 13:02:25.741307\n"
          ]
        }
      ]
    },
    {
      "cell_type": "code",
      "source": [
        "#2 Write a Python program to create a person class. Include attributes like name, country and date of birth. Implement a method to determine the person's age.\n",
        "\n",
        "from datetime import date, time, datetime\n",
        "\n",
        "class Person:\n",
        "  def __init__(self, name, country, dob) -> None:\n",
        "    self.name = name\n",
        "    self.country = country\n",
        "    self.birth = dob\n",
        "\n",
        "  def age(self):\n",
        "    today = date.today()\n",
        "    age = today.year - int(self.birth[0:4])\n",
        "    print(age)\n",
        "\n",
        "\n",
        "obj = Person(\"Abdullah\", \"Sweden\", \"2003-12-20\")\n",
        "obj.age()\n",
        "\n"
      ],
      "metadata": {
        "colab": {
          "base_uri": "https://localhost:8080/"
        },
        "id": "jzKb7gVxVQyR",
        "outputId": "8618eb13-308a-4a84-d1cc-22d16f8f12e8"
      },
      "execution_count": 18,
      "outputs": [
        {
          "output_type": "stream",
          "name": "stdout",
          "text": [
            "22\n"
          ]
        }
      ]
    },
    {
      "cell_type": "code",
      "source": [
        "\n",
        "#3 Write a Python program to create a calculator class. Include methods for basic arithmetic operations.\n",
        "class calculator:\n",
        "  def __init__(self, num1, num2) -> None:\n",
        "    self.num1 = num1\n",
        "    self.num2 = num2\n",
        "  def add(self):\n",
        "    return self.num1 + self.num2\n",
        "  def subtract(self):\n",
        "    return self.num1 - self.num2\n",
        "  def multiply(self):\n",
        "    return self.num1 * self.num2\n",
        "  def divide(self):\n",
        "    if self.num2 != 0:\n",
        "      return self.num1 / self.num2\n",
        "    else:\n",
        "      return \"Cannot divide by zero.\"\n",
        "\n",
        "# Example usage:\n",
        "calc = calculator(10, 5)\n",
        "print(f\"Addition: {calc.add()}\")\n",
        "print(f\"Subtraction: {calc.subtract()}\")\n",
        "print(f\"Multiplication: {calc.multiply()}\")\n",
        "print(f\"Division: {calc.divide()}\")\n",
        "\n",
        "calc_zero_division = calculator(10, 0)\n",
        "print(f\"Division by zero: {calc_zero_division.divide()}\")"
      ],
      "metadata": {
        "colab": {
          "base_uri": "https://localhost:8080/"
        },
        "id": "v_WGyBBXfqil",
        "outputId": "4d20a98d-046d-464e-818b-5fe97dee48e1"
      },
      "execution_count": 20,
      "outputs": [
        {
          "output_type": "stream",
          "name": "stdout",
          "text": [
            "Addition: 15\n",
            "Subtraction: 5\n",
            "Multiplication: 50\n",
            "Division: 2.0\n",
            "Division by zero: Cannot divide by zero.\n"
          ]
        }
      ]
    }
  ]
}