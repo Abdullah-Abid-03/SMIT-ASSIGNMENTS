{
  "nbformat": 4,
  "nbformat_minor": 0,
  "metadata": {
    "colab": {
      "provenance": []
    },
    "kernelspec": {
      "name": "python3",
      "display_name": "Python 3"
    },
    "language_info": {
      "name": "python"
    }
  },
  "cells": [
    {
      "cell_type": "code",
      "execution_count": null,
      "metadata": {
        "id": "5Z_X1X9A-hMC"
      },
      "outputs": [],
      "source": [
        "#A company decided to give bonus of 5% to employee if his/her year of service is more than 5 years. Ask user for their salary and year of service and print the net bonus amount.\n",
        "salary = int(input(\"Enter salary: \"))\n",
        "experience = int(input(\"Enter Experience: \"))\n",
        "\n",
        "if experience > 5:\n",
        "    salary = salary + (salary * 0.05)\n",
        "else:\n",
        "    print(\"No bonus\")\n",
        "print(f\"Your salary is : {salary}\")"
      ]
    },
    {
      "cell_type": "code",
      "source": [
        "#Write a program to check whether a person is eligible for voting or not. (accept age from user) if age is greater than 17 eligible otherwise not eligible\n",
        "age = int(input(\"Enter your age: \"))\n",
        "if age > 17:\n",
        "    print(f\"Eligible for voting.\")\n",
        "else:\n",
        "    print(\"Not eligible as age < 17\")"
      ],
      "metadata": {
        "id": "kZz8sUaz-vlj"
      },
      "execution_count": null,
      "outputs": []
    },
    {
      "cell_type": "code",
      "source": [
        "#Write a program to check whether a number entered by user is even or odd.\n",
        "\n",
        "num = int(input(\"Enter your age: \"))\n",
        "if num % 2 == 0:\n",
        "    print(f\"{num} is Even Number\")\n",
        "else:\n",
        "    print(f\"{num} is odd Number\")"
      ],
      "metadata": {
        "id": "uLcZAaHO-yqu"
      },
      "execution_count": null,
      "outputs": []
    },
    {
      "cell_type": "code",
      "source": [
        "#Write a program to check whether a number is divisible by 7 or not. Show Answer\n",
        "div_7 = int(input(\"Enter number: \"))\n",
        "if div_7 % 7 == 0:\n",
        "    print(f\"Divisible by 7\")\n",
        "else:\n",
        "    print(f\"Not divisible by 7\")"
      ],
      "metadata": {
        "id": "yBuxNptd-2XJ"
      },
      "execution_count": null,
      "outputs": []
    },
    {
      "cell_type": "code",
      "source": [
        "#Write a program to display \"Hello\" if a number entered by user is a multiple of five , otherwise print \"Bye\".\n",
        "mul_5 = int(input(\"Enter number: \"))\n",
        "if mul_5 % 5 == 0:\n",
        "    print(f\"Hello\")\n",
        "else:\n",
        "    print(f\"Bye\")"
      ],
      "metadata": {
        "id": "qIXL3CSB-6h7"
      },
      "execution_count": null,
      "outputs": []
    },
    {
      "cell_type": "code",
      "source": [
        "#Write a program to display the last digit of a number.\n",
        "\n",
        "last_dig = int(input(\"Enter number: \"))\n",
        "print(f\"Last digit = {last_dig%10}\")"
      ],
      "metadata": {
        "id": "Q5jqQw3X-9gz"
      },
      "execution_count": null,
      "outputs": []
    },
    {
      "cell_type": "code",
      "source": [
        "#Take values of length and breadth of a rectangle from user and print if it is square or rectangle.\n",
        "length = int(input(\"Enter Length = \"))\n",
        "breadth = int(input(\"Enter breadth = \"))\n",
        "\n",
        "if length == breadth:\n",
        "    print(f\"THis is square\")\n",
        "else:\n",
        "    print(f\"rectangle.\")"
      ],
      "metadata": {
        "id": "i7AqB4jD_BIe"
      },
      "execution_count": null,
      "outputs": []
    },
    {
      "cell_type": "code",
      "source": [
        "#Take two int values from user and print greatest among them.\n",
        "A = int(input(\"Enter A: \"))\n",
        "B = int(input(\"Enter B: \"))\n",
        "if A > B:\n",
        "    print(f\"{A} is greatest\")\n",
        "else:\n",
        "    print(f\"{B} is greatest.\")"
      ],
      "metadata": {
        "id": "z31B7PN7_EDu"
      },
      "execution_count": null,
      "outputs": []
    },
    {
      "cell_type": "code",
      "source": [
        "#A shop will give discount of 10% if the cost of purchased quantity is more than\n",
        "#1000. Ask user for quantity Suppose, one unit will cost 100. Judge and print total cost for user.\n",
        "quantity = int(input(\"Enter the quantity: \"))\n",
        "total = quantity * 100\n",
        "if total > 1000:\n",
        "    discount = total * 0.1\n",
        "    total = total - discount\n",
        "print(\"Total cost: \", total)"
      ],
      "metadata": {
        "id": "_aRWL67X_Ik5"
      },
      "execution_count": null,
      "outputs": []
    },
    {
      "cell_type": "code",
      "source": [
        "'''A school has following rules for grading system:\n",
        "a. Below 25 - F\n",
        "b. 25 to 45 - E\n",
        "c. 45 to 50 - D\n",
        "d. 50 to 60 - C\n",
        "e. 60 to 80 - B\n",
        "f. Above 80 - A\n",
        "Ask user to enter marks and print the corresponding grade.'''\n",
        "marks = input(\"Enter Marks: \")\n",
        "if marks < 25:\n",
        "  grade = \"F\"\n",
        "elif marks >= 25 and marks < 45:\n",
        "  grade = \"E\"\n",
        "elif marks >= 45 and marks < 50:\n",
        "  grade = \"D\"\n",
        "elif marks>= 50 and marks < 60:\n",
        "  grade = \"C\"\n",
        "elif marks >= 60 and marks < 80:\n",
        "  grade = \"B\"\n",
        "elif marks >= 80:\n",
        "  grade = \"A\"\n",
        "print(grade)\n"
      ],
      "metadata": {
        "id": "8NJB6E8m_QT4"
      },
      "execution_count": null,
      "outputs": []
    },
    {
      "cell_type": "code",
      "source": [
        "'''A student will not be allowed to sit in exam if his/her attendence is less than 75%.\n",
        "Take following input from user:\n",
        "Number of classes held\n",
        "Number of classes attended.\n",
        "And print percentage of class attended\n",
        "Is student is allowed to sit in exam or not.'''\n",
        "classes_held = int(input(\"Enter number of classes held: \"))\n",
        "classes_attended = int(input(\"Enter number of classes attended: \"))\n",
        "percentage = (classes_held / classes_attended) * 100\n",
        "if percentage < 75:\n",
        "  print(\"Not allowed to sit in exam\")\n",
        "else:\n",
        "  print(\"Allowed to sit in exam\")\n",
        "#Modify the above question to allow student to sit if he/she has medical cause. Ask user if he/she has medical cause or not ( 'Y' or 'N' ) and print accordingly.\n",
        "ques = input(\"Do  you have a medica issue: (Y/N): \")\n",
        "if ques == \"Y\" or ques == \"y\":\n",
        "  print(\"Allowed to sit in exam\")\n",
        "else:\n",
        "  print(\"Not allowed to sit in exam\")\n"
      ],
      "metadata": {
        "id": "xqIhTEnV_T0q"
      },
      "execution_count": null,
      "outputs": []
    },
    {
      "cell_type": "code",
      "source": [
        "#**Write a program to check if a year is leap year or not.\n",
        "#If a year is divisible by 4 then it is leap year but if the year is century year like 2000, 1900, 2100 then it must be divisible by 400.\n",
        "year = int(input(\"Enter year: \"))\n",
        "if (year % 4 == 0) or (year % 10 == 0 and year % 400 == 0) :\n",
        "  print (f\"{year} is a leap year\")\n",
        "else:\n",
        "  print(f\"{year} is not a leap year\")\n",
        ""
      ],
      "metadata": {
        "id": "OgZPlHri_Xke"
      },
      "execution_count": null,
      "outputs": []
    },
    {
      "cell_type": "code",
      "source": [
        "'''Ask user to enter age, gender ( M or F ), marital status ( Y or N ) and then using following rules print their place of service.\n",
        "if employee is female, then she will work only in urban areas.\n",
        "\n",
        "if employee is a male and age is in between 20 to 40 then he may work in anywhere\n",
        "\n",
        "if employee is male and age is in between 40 t0 60 then he will work in urban areas only.\n",
        "\n",
        "And any other input of age should print \"ERROR\" '''\n",
        "age = int(input(\"Enter age: \"))\n",
        "gender = input(\"Enter gender (M/F): \")\n",
        "marital_status = input(\"Enter marital status (Y/N): \")\n",
        "if gender == \"F\" or gender == \"f\":\n",
        "  print(f\"Urbann Areas\")\n",
        "elif (gender == \"M\" or gender == \"m\") and  (age > 20 and age < 40):\n",
        "  print(f\"Allowed to work anywhere\")\n",
        "elif (gender == \"M\" or gender == \"m\") and (age > 40 and age < 60):\n",
        "  print(f\"Allowed to work in urban areas only\")\n",
        "else:\n",
        "  print(f\"ERROR\")\n",
        "\n"
      ],
      "metadata": {
        "id": "DPzPBV3__bMd"
      },
      "execution_count": null,
      "outputs": []
    },
    {
      "cell_type": "code",
      "source": [
        "'''Write a program to calculate the electricity bill (accept number of unit from user) according to the following criteria : Unit Price\n",
        "uptp 100 units no charge Next 200 units Rs 5 per unit After 200 units Rs 10 per unit (For example if input unit is 350 than total\n",
        "bill amount is Rs.3500 (For example if input unit is 97 than total bill amount is Rs.0 (For example if input unit is 150 than total bill amount is Rs.750'''\n",
        "\n",
        "units = int(input (\"Enter number of units used: \"))\n",
        "if units <= 100:\n",
        "  bill = 0\n",
        "elif units > 100 and units <= 200:\n",
        "  bill = (units - 100) * 5\n",
        "elif units > 200:\n",
        "  bill = (units - 200) * 10 + 500\n",
        "print(f\"Bill amount: {bill}\")"
      ],
      "metadata": {
        "id": "-Ds6Gxc9_jpq"
      },
      "execution_count": null,
      "outputs": []
    },
    {
      "cell_type": "code",
      "source": [
        "#Take input of age of 3 people by user and determine oldest and youngest among them.\n",
        "A = int(input(\"Enter A's age: \"))\n",
        "B = int(input(\"Enter B's age: \"))\n",
        "C = int(input(\"Enter C's age: \"))\n",
        "if A > B and A > C:\n",
        "  print(f\"{A} is the oldest\")\n",
        "elif B > A and B > C:\n",
        "  print(f\"{B} is oldest\")\n",
        "else:\n",
        "  print(f\"{C} is oldest\")\n",
        "\n",
        "if A < B and A < C:\n",
        "  print(f\"{A} is the youngest\")\n",
        "elif B < A and B < C:\n",
        "  print(f\"{B} is youngest\")\n",
        "else:\n",
        "  print(f\"{C} is youngest\")"
      ],
      "metadata": {
        "id": "hOTb86B9_lQ6"
      },
      "execution_count": null,
      "outputs": []
    }
  ]
}