{
  "nbformat": 4,
  "nbformat_minor": 0,
  "metadata": {
    "colab": {
      "provenance": []
    },
    "kernelspec": {
      "name": "python3",
      "display_name": "Python 3"
    },
    "language_info": {
      "name": "python"
    }
  },
  "cells": [
    {
      "cell_type": "code",
      "execution_count": 2,
      "metadata": {
        "colab": {
          "base_uri": "https://localhost:8080/"
        },
        "collapsed": true,
        "id": "ZDJrCueH04iN",
        "outputId": "7ec9d4a4-b75e-4731-9775-b8b73c1e48de"
      },
      "outputs": [
        {
          "output_type": "stream",
          "name": "stdout",
          "text": [
            "Enter string: Abdullah Abid\n",
            "Total cowels in a string: 5\n"
          ]
        }
      ],
      "source": [
        "#1\n",
        "vowels = ['a', 'e', 'i', 'o',  'u']\n",
        "count = 0\n",
        "user = input(\"Enter string: \")\n",
        "user = user.lower()\n",
        "\n",
        "for v in user:\n",
        "  if v in vowels:\n",
        "    count = count + 1\n",
        "\n",
        "print(f\"Total vowels in a string: {count}\")"
      ]
    },
    {
      "cell_type": "code",
      "source": [
        "#2\n",
        "count_upper = count_lower = count_digit = count_spaces = 0\n",
        "user = input(\"Enter string: \")\n",
        "for u in user:\n",
        "    if u.isupper():\n",
        "        count_upper = count_upper + 1\n",
        "    elif u.islower():\n",
        "        count_lower = count_lower + 1\n",
        "    elif u.isdigit():\n",
        "        count_digit = count_digit + 1\n",
        "    elif u == ' ':\n",
        "        count_spaces = count_spaces + 1\n",
        "print(f\"count_upper: {count_upper}\")\n",
        "print(f\"count_lower: {count_lower}\")\n",
        "print(f\"count_digit: {count_digit}\")\n",
        "print(f\"Spaces: {count_spaces}\")"
      ],
      "metadata": {
        "id": "UvkYFw1AtmNb"
      },
      "execution_count": null,
      "outputs": []
    },
    {
      "cell_type": "code",
      "source": [
        "#3\n",
        "user = input(\"Enter string: \")\n",
        "# last = len(user)\n",
        "if len(user) > 1:\n",
        "    lst = list(user)\n",
        "    lst[0] = user[-1]\n",
        "    lst[-1] = user[0]\n",
        "    user = \"\".join(lst)\n",
        "    print(user)\n",
        "else:\n",
        "    print(f\"{user}\")"
      ],
      "metadata": {
        "id": "q1EfZFZmtmQv"
      },
      "execution_count": null,
      "outputs": []
    },
    {
      "cell_type": "code",
      "source": [
        "#4\n",
        "user = input(\"Enter string: \")\n",
        "# last = len(user)\n",
        "reverse = user[::-1]\n",
        "print(reverse)"
      ],
      "metadata": {
        "id": "XsLRfK4htmUB"
      },
      "execution_count": 92,
      "outputs": []
    },
    {
      "cell_type": "code",
      "source": [
        "#5\n",
        "user = input(\"Enter string: \")\n",
        "if len(user) > 1:\n",
        "    left_shifted = user[1::] + user[0]\n",
        "    print(left_shifted)\n",
        "else:\n",
        "    print(user)"
      ],
      "metadata": {
        "id": "McQNhLirtqsQ"
      },
      "execution_count": null,
      "outputs": []
    },
    {
      "cell_type": "code",
      "source": [
        "#6\n",
        "user = input(\"Enter string: \").strip()\n",
        "\n",
        "if ' ' in user:\n",
        "    if user[0] != ' ':\n",
        "        print(f\"{user[0].upper()}.\")\n",
        "    for i in range(1, len(user)):\n",
        "        if user[i - 1] == ' ' and user[i] != ' ':\n",
        "            print(f\"{user[i].upper()}. \")\n",
        "else:\n",
        "\n",
        "    found = False\n",
        "    for v in user:\n",
        "        if v.isupper():\n",
        "            print(f\"{v}.\")\n",
        "            found = True\n",
        "    if not found:\n",
        "        print(\"No initials\")"
      ],
      "metadata": {
        "id": "taDJDYMitq7n"
      },
      "execution_count": null,
      "outputs": []
    },
    {
      "cell_type": "code",
      "source": [
        "#7\n",
        "user = input(\"Enter string: \").strip()\n",
        "user = user.lower()\n",
        "if user == user[::-1]:\n",
        "    print(f\"{user}  is palindrome\")\n",
        "else:\n",
        "    print(f\"{user} not a palindrome\")"
      ],
      "metadata": {
        "id": "eKwwwgwRtrAW"
      },
      "execution_count": null,
      "outputs": []
    },
    {
      "cell_type": "code",
      "source": [
        "#8\n",
        "word = \"SHIFT\"\n",
        "\n",
        "n = len(word)\n",
        "current = word\n",
        "\n",
        "for i in range(n):\n",
        "    # Shift left by one\n",
        "    current = current[1:] + current[0]\n",
        "    print(current)\n"
      ],
      "metadata": {
        "colab": {
          "base_uri": "https://localhost:8080/"
        },
        "id": "s0ID58P3trF-",
        "outputId": "61b071f7-a351-44ee-8155-7748a871db86"
      },
      "execution_count": 96,
      "outputs": [
        {
          "output_type": "stream",
          "name": "stdout",
          "text": [
            "HIFTS\n",
            "IFTSH\n",
            "FTSHI\n",
            "TSHIF\n",
            "SHIFT\n"
          ]
        }
      ]
    },
    {
      "cell_type": "code",
      "source": [
        "#9\n",
        "password = input(\"Enter password: \")\n",
        "\n",
        "if len(password) >= 8:\n",
        "  has_upper = False\n",
        "  has_lower = False\n",
        "  has_digit = False\n",
        "\n",
        "  for p in password:\n",
        "      if p.isupper():\n",
        "          has_upper = True\n",
        "      elif p.islower():\n",
        "          has_lower = True\n",
        "      elif p.isdigit():\n",
        "          has_digit = True\n",
        "\n",
        "  if has_upper and has_lower and has_digit:\n",
        "      print(f\"Password created successfully.\")\n",
        "  else:\n",
        "      print(\"Password must contain at least one uppercase letter, one lowercase letter, and one digit.\")\n",
        "else:\n",
        "  print(\"Password is too short (must be at least 8 characters).\")"
      ],
      "metadata": {
        "colab": {
          "base_uri": "https://localhost:8080/"
        },
        "id": "7u3jdtPBtwDS",
        "outputId": "e33cbbb1-8dbf-4dfa-9de0-15cdc4f29f34"
      },
      "execution_count": 94,
      "outputs": [
        {
          "output_type": "stream",
          "name": "stdout",
          "text": [
            "Enter password: yhh5667\n",
            "Password is too short (must be at least 8 characters).\n"
          ]
        }
      ]
    }
  ]
}