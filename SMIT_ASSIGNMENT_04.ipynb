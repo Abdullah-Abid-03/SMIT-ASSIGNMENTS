{
  "nbformat": 4,
  "nbformat_minor": 0,
  "metadata": {
    "colab": {
      "provenance": []
    },
    "kernelspec": {
      "name": "python3",
      "display_name": "Python 3"
    },
    "language_info": {
      "name": "python"
    }
  },
  "cells": [
    {
      "cell_type": "code",
      "execution_count": null,
      "metadata": {
        "colab": {
          "base_uri": "https://localhost:8080/"
        },
        "collapsed": true,
        "id": "wZTUyX8ByGq4",
        "outputId": "78396397-48e7-4041-f200-7baa130b398a"
      },
      "outputs": [
        {
          "output_type": "stream",
          "name": "stdout",
          "text": [
            "Enter the length of the list: 6\n",
            "Enter list item: apple\n",
            "Enter list item: 23\n",
            "Enter list item: 22\n",
            "Enter list item: 100.23\n",
            "Enter list item: Milkshake\n",
            "Enter list item: kawaa\n",
            "Alternative list elements are: \n",
            "['23', '100.23', 'kawaa']\n"
          ]
        }
      ],
      "source": [
        "#1\n",
        "n =  int(input(\"Enter the length of the list: \"))\n",
        "user_list = []\n",
        "for i in range(n):\n",
        "    enter = str(input(\"Enter list item: \"))\n",
        "    user_list.append(enter)\n",
        "print(f\"Alternative list elements are: \")\n",
        "print(user_list[1::2])"
      ]
    },
    {
      "cell_type": "code",
      "source": [
        "#2\n",
        "n =  int(input(\"Enter the length of the list: \"))\n",
        "user_list = []\n",
        "for i in range(n):\n",
        "    enter = str(input(\"Enter list item: \"))\n",
        "    user_list.append(enter)\n",
        "\n",
        "print(f\"{user_list[::-1]}\")\n"
      ],
      "metadata": {
        "colab": {
          "base_uri": "https://localhost:8080/"
        },
        "collapsed": true,
        "id": "N8X5-5R30D0I",
        "outputId": "86082ace-9c82-4f6e-fc89-4784defdd4a4"
      },
      "execution_count": null,
      "outputs": [
        {
          "output_type": "stream",
          "name": "stdout",
          "text": [
            "Enter the length of the list: 5\n",
            "Enter list item: power\n",
            "Enter list item: laugh\n",
            "Enter list item: 89\n",
            "Enter list item: 322\n",
            "Enter list item: hai\n",
            "['hai', '322', '89', 'laugh', 'power']\n"
          ]
        }
      ]
    },
    {
      "cell_type": "code",
      "source": [
        "#3\n",
        "n =  int(input(\"Enter the length of the list: \"))\n",
        "user_list = []\n",
        "for i in range(n):\n",
        "    enter = int(input(\"Enter list item: \"))\n",
        "    user_list.append(enter)\n",
        "max = user_list[0]\n",
        "for i in range(n):\n",
        "  if user_list[i] > max:\n",
        "    max = user_list[i]\n",
        "print(f\"The largest element in the list is {max}\")"
      ],
      "metadata": {
        "colab": {
          "base_uri": "https://localhost:8080/"
        },
        "id": "oH837ZVE0EAU",
        "outputId": "62c70a93-a28e-4159-a00b-3c8182dc25ae",
        "collapsed": true
      },
      "execution_count": null,
      "outputs": [
        {
          "output_type": "stream",
          "name": "stdout",
          "text": [
            "Enter the length of the list: 5\n",
            "Enter list item: 45\n",
            "Enter list item: 2\n",
            "Enter list item: 87\n",
            "Enter list item: 33\n",
            "Enter list item: 12\n",
            "The largest element in the list is 87\n"
          ]
        }
      ]
    },
    {
      "cell_type": "code",
      "source": [
        "#4\n",
        "user_list = []\n",
        "for i in range(5):\n",
        "    enter = str(input(f\"Enter list item {i+1}: \"))\n",
        "    user_list.append(enter)\n",
        "print(user_list)\n",
        "print(f\"Rotated list: \")\n",
        "last = user_list[-1]\n",
        "for i in range(len(user_list)-1, 0, -1):\n",
        "    user_list[i] = user_list[i-1]\n",
        "\n",
        "user_list[0] = last\n",
        "\n",
        "print(user_list)\n"
      ],
      "metadata": {
        "id": "zOCw9km_0EDc",
        "colab": {
          "base_uri": "https://localhost:8080/"
        },
        "outputId": "749deea9-05f0-4fa9-916e-c53f627e7e11"
      },
      "execution_count": 96,
      "outputs": [
        {
          "output_type": "stream",
          "name": "stdout",
          "text": [
            "Enter list item 1: 23\n",
            "Enter list item 2: errrr\n",
            "Enter list item 3: wsaa\n",
            "Enter list item 4: 122\n",
            "Enter list item 5: 099\n",
            "['23', 'errrr', 'wsaa', '122', '099']\n",
            "Rotated list: \n",
            "['099', '23', 'errrr', 'wsaa', '122']\n"
          ]
        }
      ]
    },
    {
      "cell_type": "code",
      "source": [
        "user=[45, \"Lemon\", \"juice\", 90.09, 2300]\n",
        "print(user[-1:])\n",
        "print(user[:-1])\n",
        "print(user[::-1])\n"
      ],
      "metadata": {
        "colab": {
          "base_uri": "https://localhost:8080/"
        },
        "id": "GEXw2aoF2mDF",
        "outputId": "d2df4c90-c280-4775-b685-e0c5573d2450"
      },
      "execution_count": 88,
      "outputs": [
        {
          "output_type": "stream",
          "name": "stdout",
          "text": [
            "[2300]\n",
            "[45, 'Lemon', 'juice', 90.09]\n",
            "[2300, 90.09, 'juice', 'Lemon', 45]\n",
            "[45, 'Lemon', 'juice', 90.09, 2300]\n"
          ]
        }
      ]
    },
    {
      "cell_type": "code",
      "source": [
        "#5\n",
        "original = input(\"Enter the string: \")\n",
        "original = original.split()\n",
        "to_delete = input(\"Enter word to delete: \")\n",
        "m = len(original)\n",
        "for i in range(m):\n",
        "  if original[i] == to_delete:\n",
        "    original.remove(to_delete)\n",
        "    break\n",
        "original = ' '.join(original)  # join list back into a single string with character/space provided in the ''.\n",
        "print(original)"
      ],
      "metadata": {
        "id": "Xz7oN6sH0EHK"
      },
      "execution_count": null,
      "outputs": []
    },
    {
      "cell_type": "code",
      "source": [
        "#6\n",
        "dated = str(input(\"Enter the date (mm/dd/year): \"))\n",
        "dated = dated.split(\"/\") # it splits the string based on the given argument.\n",
        "if dated[0] == \"01\":\n",
        "  dated[0] = \"January\"\n",
        "elif dated[0] == \"02\":\n",
        "  dated[0] = \"February\"\n",
        "elif dated[0] == \"03\":\n",
        "  dated[0] = \"March\"\n",
        "elif dated[0] == \"04\":\n",
        "  dated[0] = \"April\"\n",
        "elif dated[0] == \"05\":\n",
        "  dated[0] = \"May\"\n",
        "elif dated[0] == \"06\":\n",
        "  dated[0] = \"June\"\n",
        "elif dated[0] == \"07\":\n",
        "  dated[0] = \"July\"\n",
        "elif dated[0] == \"08\":\n",
        "  dated[0] = \"August\"\n",
        "elif dated[0] == \"09\":\n",
        "  dated[0] = \"September\"\n",
        "elif dated[0] == \"10\":\n",
        "  dated = \"October\"\n",
        "elif dated[0] == \"11\":\n",
        "  dated = \"November\"\n",
        "elif dated[0] == \"12\":\n",
        "  dated[0] = \"December\"\n",
        "else:\n",
        "  print(\"Invalid date\")\n",
        "print(f\" {dated[0]} {dated[1]}, {dated[2]}\")"
      ],
      "metadata": {
        "id": "VWqClcPZ0ENG"
      },
      "execution_count": null,
      "outputs": []
    },
    {
      "cell_type": "code",
      "source": [
        "#7\n",
        "original = input(\"Enter the string: \")\n",
        "original = list(original)\n",
        "original[0] = original[0].upper()\n",
        "for i in range(1, len(original)):\n",
        "  if original[i-1] == ' ':\n",
        "    original[i] = original[i].capitalize()\n",
        "original = ''.join(original)\n",
        "print(original)"
      ],
      "metadata": {
        "id": "XVjsHJ5l0ERT",
        "colab": {
          "base_uri": "https://localhost:8080/"
        },
        "outputId": "3843d5e0-d569-4d7f-dc53-5bf90a2e9ed4"
      },
      "execution_count": 33,
      "outputs": [
        {
          "output_type": "stream",
          "name": "stdout",
          "text": [
            "Enter the string: dO yoU mean>\n",
            "DO YoU Mean>\n"
          ]
        }
      ]
    },
    {
      "cell_type": "code",
      "source": [
        "#8\n",
        "matrix = [\n",
        "    [2,11,7,12],\n",
        "    [5,2,9,15],\n",
        "    [8,3,10,42]\n",
        "]\n",
        "\n",
        "for i in range(len(matrix)):\n",
        "  #print(matrix[i])\n",
        "  total = sum(matrix[i])\n",
        "  print(f\"Sum of {i+1} row: {total}\")"
      ],
      "metadata": {
        "id": "UE5NV1wD0EVU",
        "colab": {
          "base_uri": "https://localhost:8080/"
        },
        "outputId": "14da5c14-acdd-4693-bc9b-146217011586"
      },
      "execution_count": 44,
      "outputs": [
        {
          "output_type": "stream",
          "name": "stdout",
          "text": [
            "Sum of 1 row: 32\n",
            "Sum of 2 row: 31\n",
            "Sum of 3 row: 63\n"
          ]
        }
      ]
    },
    {
      "cell_type": "code",
      "source": [
        "#9\n",
        "\n",
        "matrix1 = [\n",
        "    [2,11,7,12], [5,2,9,15],    [8,3,10,42]\n",
        "]\n",
        "matrix2 = [\n",
        "    [21,1,9,15], [50,20,11,33], [1,30,40,4]\n",
        "]\n",
        "result = [\n",
        "    [0,0,0,0], [0,0,0,0], [0,0,0,0]\n",
        "]\n",
        "\n",
        "for i in range(len(matrix1)):\n",
        "  for j in range(len(matrix1[0])):  # to get the number of columns in a 2D matrix\n",
        "    result[i][j]  = matrix1[i][j] + matrix2[i][j]\n",
        "\n",
        "for i in range(len(matrix1)):\n",
        "  for j in range(len(matrix1[0])):\n",
        "    print(f\"{result[i][j]:3}\", end=\"\")\n",
        "  print(f\"\\n\") # for every new row\n",
        ""
      ],
      "metadata": {
        "id": "FTvxOKrV0EYL",
        "colab": {
          "base_uri": "https://localhost:8080/"
        },
        "outputId": "5c84af3a-c357-4e3f-964d-b8d13ea960d4"
      },
      "execution_count": 77,
      "outputs": [
        {
          "output_type": "stream",
          "name": "stdout",
          "text": [
            " 23 12 16 27\n",
            "\n",
            " 55 22 20 48\n",
            "\n",
            "  9 33 50 46\n",
            "\n"
          ]
        }
      ]
    },
    {
      "cell_type": "code",
      "source": [
        "#10\n",
        "matrix1 = [\n",
        "    [2,11,12], [5,2,9],    [8,3,42]\n",
        "]\n",
        "matrix2 = [\n",
        "    [21,1,15], [50,20,11], [1,30,40]\n",
        "]\n",
        "result = [\n",
        "    [0,0,0], [0,0,0], [0,0,0]\n",
        "]\n",
        "\n",
        "if len(matrix1[0]) == len(matrix2):\n",
        "  for i in range(len(matrix1)): # rows\n",
        "    for j in range(len(matrix2[0])): # columns\n",
        "      for k in range(len(matrix2)): # columns of first matrix = rows of second matrix (dot product of that row and column)\n",
        "        result[i][j] += matrix1[i][k] * matrix2[k][j]\n",
        "else:\n",
        "  print(\"Invalid matrix\")\n",
        "\n",
        "for row in result:\n",
        "    for val in row:\n",
        "        print(f\"{val:4}\", end=\"\")\n",
        "    print()"
      ],
      "metadata": {
        "colab": {
          "base_uri": "https://localhost:8080/"
        },
        "id": "IRIDzWdSssDp",
        "outputId": "f227654d-2802-4d8a-e5b1-048b92d577b4"
      },
      "execution_count": 85,
      "outputs": [
        {
          "output_type": "stream",
          "name": "stdout",
          "text": [
            "[[ 604  582  631]\n",
            " [ 214  315  457]\n",
            " [ 360 1328 1833]]\n"
          ]
        }
      ]
    }
  ]
}