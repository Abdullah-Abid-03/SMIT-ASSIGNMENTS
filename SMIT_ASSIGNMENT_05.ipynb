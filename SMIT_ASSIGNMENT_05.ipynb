{
  "nbformat": 4,
  "nbformat_minor": 0,
  "metadata": {
    "colab": {
      "provenance": []
    },
    "kernelspec": {
      "name": "python3",
      "display_name": "Python 3"
    },
    "language_info": {
      "name": "python"
    }
  },
  "cells": [
    {
      "cell_type": "code",
      "execution_count": 12,
      "metadata": {
        "colab": {
          "base_uri": "https://localhost:8080/"
        },
        "id": "Ap7WPqkX8AWi",
        "outputId": "b1529b94-90c8-483c-fff8-612c9e6e645e"
      },
      "outputs": [
        {
          "output_type": "stream",
          "name": "stdout",
          "text": [
            "1 2 3 4 5 6 7 8 9 10 "
          ]
        }
      ],
      "source": [
        "#1\n",
        "for i in range(10):\n",
        "  print(f\"{i+1}\", end= \" \")"
      ]
    },
    {
      "cell_type": "code",
      "source": [
        "#2\n",
        "n=20\n",
        "while(n>=1):\n",
        "  print(f\"{n}\", end=\" \")\n",
        "  n -= 1"
      ],
      "metadata": {
        "colab": {
          "base_uri": "https://localhost:8080/"
        },
        "id": "RBjUmv_i8Ir6",
        "outputId": "b12ef1a8-0d7e-4724-8ac3-1dc1aba1b077"
      },
      "execution_count": 13,
      "outputs": [
        {
          "output_type": "stream",
          "name": "stdout",
          "text": [
            "20 19 18 17 16 15 14 13 12 11 10 9 8 7 6 5 4 3 2 1 "
          ]
        }
      ]
    },
    {
      "cell_type": "code",
      "source": [
        "#3\n",
        "for i in range(1,10, 2):\n",
        "  print(f\"{i+1}\", end=\" \")"
      ],
      "metadata": {
        "colab": {
          "base_uri": "https://localhost:8080/"
        },
        "id": "Nm6EIVd58JmP",
        "outputId": "b76cc3ae-c454-4af8-e535-7009e4e769c8"
      },
      "execution_count": 16,
      "outputs": [
        {
          "output_type": "stream",
          "name": "stdout",
          "text": [
            "2 4 6 8 10 "
          ]
        }
      ]
    },
    {
      "cell_type": "code",
      "source": [
        "#4\n",
        "n = int(input(\"Enter number: \"))\n",
        "for i in range(n):\n",
        "  print(f\"{i+1}\", end= \" \")\n"
      ],
      "metadata": {
        "colab": {
          "base_uri": "https://localhost:8080/"
        },
        "id": "W7fQWCOp8KIV",
        "outputId": "7689487d-d9d6-4e00-a7dc-7e8289598a94"
      },
      "execution_count": 17,
      "outputs": [
        {
          "output_type": "stream",
          "name": "stdout",
          "text": [
            "Enter number: 5\n",
            "1 2 3 4 5 "
          ]
        }
      ]
    },
    {
      "cell_type": "code",
      "source": [
        "#5\n",
        "n = int(input(\"Enter number: \"))\n",
        "for i in range(1 ,n, 2):\n",
        "  print(f\"{i}\", end= \" \")\n"
      ],
      "metadata": {
        "colab": {
          "base_uri": "https://localhost:8080/"
        },
        "id": "LTjboiUI8LIS",
        "outputId": "374ce14d-aa79-46ee-f9da-bffd8d01c164"
      },
      "execution_count": 20,
      "outputs": [
        {
          "output_type": "stream",
          "name": "stdout",
          "text": [
            "Enter number: 12\n",
            "1 3 5 7 9 11 "
          ]
        }
      ]
    },
    {
      "cell_type": "code",
      "source": [
        "#6\n",
        "for _ in range(5):\n",
        "  print(\"Happy Birthday\")"
      ],
      "metadata": {
        "colab": {
          "base_uri": "https://localhost:8080/"
        },
        "id": "nLMr8pDk8LtU",
        "outputId": "cc9a799e-da2e-4a27-b859-2ddd0fc07659"
      },
      "execution_count": 22,
      "outputs": [
        {
          "output_type": "stream",
          "name": "stdout",
          "text": [
            "Happy Birthday\n",
            "Happy Birthday\n",
            "Happy Birthday\n",
            "Happy Birthday\n",
            "Happy Birthday\n"
          ]
        }
      ]
    },
    {
      "cell_type": "code",
      "source": [
        "#7\n",
        "n = int(input(\"Enter number: \"))\n",
        "for i in range(1, n+1):\n",
        "  print(f\"{i*i}\", end=\" \")"
      ],
      "metadata": {
        "colab": {
          "base_uri": "https://localhost:8080/"
        },
        "id": "r8QIkyhY8NMX",
        "outputId": "97551f3a-d264-4e08-caab-172cd3662848"
      },
      "execution_count": 2,
      "outputs": [
        {
          "output_type": "stream",
          "name": "stdout",
          "text": [
            "Enter number: 5\n",
            "1 4 9 16 25 "
          ]
        }
      ]
    },
    {
      "cell_type": "code",
      "source": [
        "#8\n",
        "n = int(input(\"Enter number: \"))\n",
        "for i in range(1, 11):\n",
        "  print(f\"{n} x {i} = {n*i}\")"
      ],
      "metadata": {
        "colab": {
          "base_uri": "https://localhost:8080/"
        },
        "id": "oLz4pKxM8OGg",
        "outputId": "204af7a7-833a-4bd9-b409-cbc6d44bc4c5"
      },
      "execution_count": 3,
      "outputs": [
        {
          "output_type": "stream",
          "name": "stdout",
          "text": [
            "Enter number: 12\n",
            "12 x 1 = 12\n",
            "12 x 2 = 24\n",
            "12 x 3 = 36\n",
            "12 x 4 = 48\n",
            "12 x 5 = 60\n",
            "12 x 6 = 72\n",
            "12 x 7 = 84\n",
            "12 x 8 = 96\n",
            "12 x 9 = 108\n",
            "12 x 10 = 120\n"
          ]
        }
      ]
    },
    {
      "cell_type": "code",
      "source": [
        "#9\n",
        "for i in range(1, 9):\n",
        "  n = 3 + (i-1) * 4\n",
        "  print(f\"{n}\", end=\" \")"
      ],
      "metadata": {
        "colab": {
          "base_uri": "https://localhost:8080/"
        },
        "id": "He8mRzHO8O3t",
        "outputId": "c60b4e36-c98d-4ce9-ae25-8b94c3244f8e"
      },
      "execution_count": 10,
      "outputs": [
        {
          "output_type": "stream",
          "name": "stdout",
          "text": [
            "3 7 11 15 19 23 27 31 "
          ]
        }
      ]
    },
    {
      "cell_type": "code",
      "source": [
        "#10\n",
        "import math\n",
        "for i in range(1, 7):\n",
        "  n = 2 * pow(3, i - 1)\n",
        "  print(f\"{n}\", end=\" \")"
      ],
      "metadata": {
        "colab": {
          "base_uri": "https://localhost:8080/"
        },
        "id": "f8oaQ6uN8PlE",
        "outputId": "ba4349e8-edd6-4e97-e2a2-d05382e5b975"
      },
      "execution_count": 11,
      "outputs": [
        {
          "output_type": "stream",
          "name": "stdout",
          "text": [
            "2 6 18 54 162 486 "
          ]
        }
      ]
    },
    {
      "cell_type": "code",
      "source": [
        "#11\n",
        "n = int(input(\"Enter number: \"))\n",
        "sum = 0\n",
        "for i in range(1, n+1):\n",
        "  sum = sum + i\n",
        "print(f\"{sum}\")"
      ],
      "metadata": {
        "colab": {
          "base_uri": "https://localhost:8080/"
        },
        "id": "ueAAiWCh8QT1",
        "outputId": "10f30037-1619-4972-ec56-1cc313bb04a2"
      },
      "execution_count": 18,
      "outputs": [
        {
          "output_type": "stream",
          "name": "stdout",
          "text": [
            "Enter number: 10\n",
            "55\n"
          ]
        }
      ]
    },
    {
      "cell_type": "code",
      "source": [
        "#12\n",
        "sum=0\n",
        "n = int(input(\"Enter number: \"))\n",
        "for i in range(1, n+1):\n",
        "  reciprocal = 1/i\n",
        "  sum = sum + reciprocal\n",
        "print(f\"{sum:.2f}\")"
      ],
      "metadata": {
        "colab": {
          "base_uri": "https://localhost:8080/"
        },
        "id": "PLL-KDQSbVpg",
        "outputId": "1b2a692b-96cb-4406-cb58-13f3726616ea"
      },
      "execution_count": 22,
      "outputs": [
        {
          "output_type": "stream",
          "name": "stdout",
          "text": [
            "Enter number: 10\n",
            "2.93\n"
          ]
        }
      ]
    },
    {
      "cell_type": "code",
      "source": [
        "#13\n",
        "sum= 0\n",
        "for i in range(5):\n",
        "  n =  int(input(\"Enter number: \"))\n",
        "  sum = sum + n\n",
        "print(f\"He final running total: {sum}\")"
      ],
      "metadata": {
        "colab": {
          "base_uri": "https://localhost:8080/"
        },
        "id": "eymO73YPbWnt",
        "outputId": "c7e2307d-144a-4f87-927c-0f33376b7f1d"
      },
      "execution_count": 25,
      "outputs": [
        {
          "output_type": "stream",
          "name": "stdout",
          "text": [
            "Enter number: 10\n",
            "Enter number: 15\n",
            "Enter number: 35\n",
            "Enter number: 40\n",
            "Enter number: 50\n",
            "150\n"
          ]
        }
      ]
    },
    {
      "cell_type": "code",
      "source": [
        "#14\n",
        "fact =  int(input(\"Enter number: \"))\n",
        "for i in range(1, fact):\n",
        "  fact = fact * i\n",
        "print(f\"{fact}\")\n"
      ],
      "metadata": {
        "colab": {
          "base_uri": "https://localhost:8080/"
        },
        "id": "8JulYaYcbXXJ",
        "outputId": "1d9edfcd-1cbb-4880-86f6-8624d13dd212"
      },
      "execution_count": 26,
      "outputs": [
        {
          "output_type": "stream",
          "name": "stdout",
          "text": [
            "Enter number: 5\n",
            "120\n"
          ]
        }
      ]
    },
    {
      "cell_type": "code",
      "source": [
        "#15\n",
        "base = int(input(\"Enter base: \"))\n",
        "exponent = int(input(\"Enter exponent: \"))\n",
        "result = 1\n",
        "for i in range(exponent):\n",
        "  result = result * base\n",
        "print(f\"{result}\")"
      ],
      "metadata": {
        "colab": {
          "base_uri": "https://localhost:8080/"
        },
        "id": "HP4fTWW5bYh9",
        "outputId": "8cae7d01-b4b5-42b7-9492-3e15e4a3d71a"
      },
      "execution_count": 28,
      "outputs": [
        {
          "output_type": "stream",
          "name": "stdout",
          "text": [
            "Enter base: 2\n",
            "Enter exponent: 3\n",
            "8\n"
          ]
        }
      ]
    }
  ]
}